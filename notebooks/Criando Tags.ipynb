{
 "cells": [
  {
   "cell_type": "markdown",
   "metadata": {},
   "source": [
    "## Exemplo de criação de tags"
   ]
  },
  {
   "cell_type": "code",
   "execution_count": 1,
   "metadata": {},
   "outputs": [],
   "source": [
    "mkdir projeto-web"
   ]
  },
  {
   "cell_type": "code",
   "execution_count": 2,
   "metadata": {},
   "outputs": [],
   "source": [
    "cd projeto-web"
   ]
  },
  {
   "cell_type": "code",
   "execution_count": 3,
   "metadata": {},
   "outputs": [
    {
     "name": "stdout",
     "output_type": "stream",
     "text": [
      "Initialized empty Git repository in /Users/diegopessoa/Documents/IFPB/Disciplinas 2019.1/GCM/gcm-github/notebooks/projeto-web/.git/\n"
     ]
    }
   ],
   "source": [
    "git init"
   ]
  },
  {
   "cell_type": "code",
   "execution_count": 4,
   "metadata": {},
   "outputs": [],
   "source": [
    "touch README.md"
   ]
  },
  {
   "cell_type": "code",
   "execution_count": 5,
   "metadata": {},
   "outputs": [],
   "source": [
    "echo \"Documentação do Projeto, versão 1.0.0\" > README.md"
   ]
  },
  {
   "cell_type": "code",
   "execution_count": 6,
   "metadata": {},
   "outputs": [],
   "source": [
    "touch index.html"
   ]
  },
  {
   "cell_type": "code",
   "execution_count": 23,
   "metadata": {},
   "outputs": [],
   "source": [
    "echo \"<html><head><meta charset='utf-8' /></head><body><h1>Essa é minha primeira versão</h1><form>Nome: <input type='text' /><input type='button' value='cadastrar' /></form></body></html>\" > index.html"
   ]
  },
  {
   "cell_type": "code",
   "execution_count": 10,
   "metadata": {},
   "outputs": [],
   "source": [
    "git add ."
   ]
  },
  {
   "cell_type": "code",
   "execution_count": 11,
   "metadata": {},
   "outputs": [
    {
     "name": "stdout",
     "output_type": "stream",
     "text": [
      "[master (root-commit) 042f35a] Pagina de cadastro\n",
      " 2 files changed, 2 insertions(+)\n",
      " create mode 100644 README.md\n",
      " create mode 100644 index.html\n"
     ]
    }
   ],
   "source": [
    "git commit -m 'Pagina de cadastro'"
   ]
  },
  {
   "cell_type": "code",
   "execution_count": 12,
   "metadata": {},
   "outputs": [
    {
     "name": "stdout",
     "output_type": "stream",
     "text": [
      "\u001b[33mcommit 042f35a2c95c31bf68c4f3031d58341ba0fbf2e9\u001b[m\u001b[33m (\u001b[m\u001b[1;36mHEAD -> \u001b[m\u001b[1;32mmaster\u001b[m\u001b[33m)\u001b[m\n",
      "Author: Diego Pessoa <diegopessoa12@gmail.com>\n",
      "Date:   Thu May 16 14:51:38 2019 -0300\n",
      "\n",
      "    Pagina de cadastro\n"
     ]
    }
   ],
   "source": [
    "git log"
   ]
  },
  {
   "cell_type": "markdown",
   "metadata": {},
   "source": [
    "## Criando Tag"
   ]
  },
  {
   "cell_type": "code",
   "execution_count": 13,
   "metadata": {},
   "outputs": [],
   "source": [
    "git tag v1.0.0"
   ]
  },
  {
   "cell_type": "code",
   "execution_count": 14,
   "metadata": {},
   "outputs": [
    {
     "name": "stdout",
     "output_type": "stream",
     "text": [
      "v1.0.0\n"
     ]
    }
   ],
   "source": [
    "git tag"
   ]
  },
  {
   "cell_type": "code",
   "execution_count": 15,
   "metadata": {},
   "outputs": [],
   "source": [
    "touch contato.html"
   ]
  },
  {
   "cell_type": "code",
   "execution_count": 24,
   "metadata": {},
   "outputs": [],
   "source": [
    "echo \"<html><head><meta charset='utf-8' /></head><body><h1>Contato</h1><form>E-mail: <input type='text' /><br />Mensagem: <textarea></textarea><br /><input type='button' value='enviar mensagem' /></form></body></html>\" > contato.html"
   ]
  },
  {
   "cell_type": "code",
   "execution_count": 25,
   "metadata": {},
   "outputs": [],
   "source": [
    "git add ."
   ]
  },
  {
   "cell_type": "code",
   "execution_count": 26,
   "metadata": {},
   "outputs": [
    {
     "name": "stdout",
     "output_type": "stream",
     "text": [
      "[master 15ee31a] Pagina de contato\n",
      " 2 files changed, 2 insertions(+), 1 deletion(-)\n"
     ]
    }
   ],
   "source": [
    "git commit -m 'Pagina de contato'"
   ]
  },
  {
   "cell_type": "code",
   "execution_count": 27,
   "metadata": {},
   "outputs": [
    {
     "name": "stdout",
     "output_type": "stream",
     "text": [
      "\u001b[33mcommit 15ee31a39035652f0d6cbad915894213c7e0817f\u001b[m\u001b[33m (\u001b[m\u001b[1;36mHEAD -> \u001b[m\u001b[1;32mmaster\u001b[m\u001b[33m)\u001b[m\n",
      "Author: Diego Pessoa <diegopessoa12@gmail.com>\n",
      "Date:   Thu May 16 14:56:41 2019 -0300\n",
      "\n",
      "    Pagina de contato\n",
      "\n",
      "\u001b[33mcommit d53bfd4408ab2e64e271d3e654e3530c6b5e5a8e\u001b[m\n",
      "Author: Diego Pessoa <diegopessoa12@gmail.com>\n",
      "Date:   Thu May 16 14:55:05 2019 -0300\n",
      "\n",
      "    Pagina de contato\n",
      "\n",
      "\u001b[33mcommit 042f35a2c95c31bf68c4f3031d58341ba0fbf2e9\u001b[m\u001b[33m (\u001b[m\u001b[1;33mtag: v1.0.0\u001b[m\u001b[33m)\u001b[m\n",
      "Author: Diego Pessoa <diegopessoa12@gmail.com>\n",
      "Date:   Thu May 16 14:51:38 2019 -0300\n",
      "\n",
      "    Pagina de cadastro\n"
     ]
    }
   ],
   "source": [
    "git log"
   ]
  },
  {
   "cell_type": "markdown",
   "metadata": {},
   "source": [
    "### Voltando para uma tag anterior"
   ]
  },
  {
   "cell_type": "code",
   "execution_count": 28,
   "metadata": {},
   "outputs": [
    {
     "name": "stdout",
     "output_type": "stream",
     "text": [
      "Note: checking out 'v1.0.0'.\n",
      "\n",
      "You are in 'detached HEAD' state. You can look around, make experimental\n",
      "changes and commit them, and you can discard any commits you make in this\n",
      "state without impacting any branches by performing another checkout.\n",
      "\n",
      "If you want to create a new branch to retain commits you create, you may\n",
      "do so (now or later) by using -b with the checkout command again. Example:\n",
      "\n",
      "  git checkout -b <new-branch-name>\n",
      "\n",
      "HEAD is now at 042f35a Pagina de cadastro\n"
     ]
    }
   ],
   "source": [
    "git checkout v1.0.0"
   ]
  },
  {
   "cell_type": "code",
   "execution_count": 29,
   "metadata": {},
   "outputs": [
    {
     "name": "stdout",
     "output_type": "stream",
     "text": [
      "Switched to a new branch 'bugfix'\n"
     ]
    }
   ],
   "source": [
    "git checkout -b bugfix"
   ]
  },
  {
   "cell_type": "code",
   "execution_count": 32,
   "metadata": {},
   "outputs": [],
   "source": [
    "echo \"<html><head><meta charset='utf-8' /></head><body><h1>Essa é minha primeira versão</h1><form method='get' action='http://google.com'>Nome: <input type='text' /><input type='submit' value='cadastrar' /></form></body></html>\" > index.html"
   ]
  },
  {
   "cell_type": "code",
   "execution_count": 33,
   "metadata": {},
   "outputs": [],
   "source": [
    "git add ."
   ]
  },
  {
   "cell_type": "code",
   "execution_count": 34,
   "metadata": {},
   "outputs": [
    {
     "name": "stdout",
     "output_type": "stream",
     "text": [
      "[bugfix 8884f75] Adiciona ação do botão cadastrar\n",
      " 1 file changed, 1 insertion(+), 1 deletion(-)\n"
     ]
    }
   ],
   "source": [
    "git commit -m 'Adiciona ação do botão cadastrar'"
   ]
  },
  {
   "cell_type": "code",
   "execution_count": 35,
   "metadata": {},
   "outputs": [
    {
     "name": "stdout",
     "output_type": "stream",
     "text": [
      "\u001b[33mcommit 8884f75a60982b0cc0f4090b8879b27018940d3e\u001b[m\u001b[33m (\u001b[m\u001b[1;36mHEAD -> \u001b[m\u001b[1;32mbugfix\u001b[m\u001b[33m)\u001b[m\n",
      "Author: Diego Pessoa <diegopessoa12@gmail.com>\n",
      "Date:   Thu May 16 15:02:42 2019 -0300\n",
      "\n",
      "    Adiciona ação do botão cadastrar\n",
      "\n",
      "\u001b[33mcommit 042f35a2c95c31bf68c4f3031d58341ba0fbf2e9\u001b[m\u001b[33m (\u001b[m\u001b[1;33mtag: v1.0.0\u001b[m\u001b[33m)\u001b[m\n",
      "Author: Diego Pessoa <diegopessoa12@gmail.com>\n",
      "Date:   Thu May 16 14:51:38 2019 -0300\n",
      "\n",
      "    Pagina de cadastro\n"
     ]
    }
   ],
   "source": [
    "git log"
   ]
  },
  {
   "cell_type": "code",
   "execution_count": 36,
   "metadata": {},
   "outputs": [],
   "source": [
    "git tag v1.0.1"
   ]
  },
  {
   "cell_type": "code",
   "execution_count": 37,
   "metadata": {},
   "outputs": [
    {
     "name": "stdout",
     "output_type": "stream",
     "text": [
      "v1.0.0\n",
      "v1.0.1\n"
     ]
    }
   ],
   "source": [
    "git tag"
   ]
  },
  {
   "cell_type": "markdown",
   "metadata": {},
   "source": [
    "## Integrando patch na master"
   ]
  },
  {
   "cell_type": "code",
   "execution_count": 38,
   "metadata": {},
   "outputs": [
    {
     "name": "stdout",
     "output_type": "stream",
     "text": [
      "Switched to branch 'master'\n"
     ]
    }
   ],
   "source": [
    "git checkout master"
   ]
  },
  {
   "cell_type": "code",
   "execution_count": 39,
   "metadata": {},
   "outputs": [
    {
     "name": "stdout",
     "output_type": "stream",
     "text": [
      "\u001b[33mcommit 15ee31a39035652f0d6cbad915894213c7e0817f\u001b[m\u001b[33m (\u001b[m\u001b[1;36mHEAD -> \u001b[m\u001b[1;32mmaster\u001b[m\u001b[33m)\u001b[m\n",
      "Author: Diego Pessoa <diegopessoa12@gmail.com>\n",
      "Date:   Thu May 16 14:56:41 2019 -0300\n",
      "\n",
      "    Pagina de contato\n",
      "\n",
      "\u001b[33mcommit d53bfd4408ab2e64e271d3e654e3530c6b5e5a8e\u001b[m\n",
      "Author: Diego Pessoa <diegopessoa12@gmail.com>\n",
      "Date:   Thu May 16 14:55:05 2019 -0300\n",
      "\n",
      "    Pagina de contato\n",
      "\n",
      "\u001b[33mcommit 042f35a2c95c31bf68c4f3031d58341ba0fbf2e9\u001b[m\u001b[33m (\u001b[m\u001b[1;33mtag: v1.0.0\u001b[m\u001b[33m)\u001b[m\n",
      "Author: Diego Pessoa <diegopessoa12@gmail.com>\n",
      "Date:   Thu May 16 14:51:38 2019 -0300\n",
      "\n",
      "    Pagina de cadastro\n"
     ]
    }
   ],
   "source": [
    "git log"
   ]
  },
  {
   "cell_type": "code",
   "execution_count": 40,
   "metadata": {},
   "outputs": [
    {
     "name": "stdout",
     "output_type": "stream",
     "text": [
      "First, rewinding head to replay your work on top of it...\n",
      "Applying: Pagina de contato\n",
      "Using index info to reconstruct a base tree...\n",
      "M\tindex.html\n",
      "Falling back to patching base and 3-way merge...\n",
      "Auto-merging index.html\n",
      "CONFLICT (content): Merge conflict in index.html\n",
      "error: Failed to merge in the changes.\n",
      "Patch failed at 0001 Pagina de contato\n",
      "\u001b[33mhint: Use 'git am --show-current-patch' to see the failed patch\u001b[m\n",
      "\n",
      "Resolve all conflicts manually, mark them as resolved with\n",
      "\"git add/rm <conflicted_files>\", then run \"git rebase --continue\".\n",
      "You can instead skip this commit: run \"git rebase --skip\".\n",
      "To abort and get back to the state before \"git rebase\", run \"git rebase --abort\".\n",
      "\n"
     ]
    },
    {
     "ename": "",
     "evalue": "128",
     "output_type": "error",
     "traceback": []
    }
   ],
   "source": [
    "git rebase v1.0.1"
   ]
  },
  {
   "cell_type": "code",
   "execution_count": 42,
   "metadata": {},
   "outputs": [
    {
     "name": "stdout",
     "output_type": "stream",
     "text": [
      "<<<<<<< HEAD\n",
      "<html><head><meta charset='utf-8' /></head><body><h1>Essa é minha primeira versão</h1><form method='get' action='http://google.com'>Nome: <input type='text' /><input type='submit' value='cadastrar' /></form></body></html>\n",
      "=======\n",
      "<html><head><meta charset='utf-8' /></head><body><h1>Contato</h1><form>E-mail: <input type='text' /><br />Mensagem: <textarea></textarea><br /><input type='button' value='enviar mensagem' /></form></body></html>\n",
      ">>>>>>> Pagina de contato\n"
     ]
    }
   ],
   "source": [
    "cat index.html"
   ]
  },
  {
   "cell_type": "code",
   "execution_count": 43,
   "metadata": {},
   "outputs": [
    {
     "name": "stdout",
     "output_type": "stream",
     "text": [
      "\u001b[31mrebase in progress; onto \u001b[m8884f75\n",
      "You are currently rebasing branch 'master' on '8884f75'.\n",
      "  (fix conflicts and then run \"git rebase --continue\")\n",
      "  (use \"git rebase --skip\" to skip this patch)\n",
      "  (use \"git rebase --abort\" to check out the original branch)\n",
      "\n",
      "Changes to be committed:\n",
      "  (use \"git reset HEAD <file>...\" to unstage)\n",
      "\n",
      "\t\u001b[32mnew file:   contato.html\u001b[m\n",
      "\n",
      "Unmerged paths:\n",
      "  (use \"git reset HEAD <file>...\" to unstage)\n",
      "  (use \"git add <file>...\" to mark resolution)\n",
      "\n",
      "\t\u001b[31mboth modified:   index.html\u001b[m\n",
      "\n"
     ]
    }
   ],
   "source": [
    "git status"
   ]
  },
  {
   "cell_type": "code",
   "execution_count": 44,
   "metadata": {},
   "outputs": [],
   "source": [
    "git add index.html"
   ]
  },
  {
   "cell_type": "code",
   "execution_count": 45,
   "metadata": {},
   "outputs": [
    {
     "name": "stdout",
     "output_type": "stream",
     "text": [
      "\u001b[31mrebase in progress; onto \u001b[m8884f75\n",
      "You are currently rebasing branch 'master' on '8884f75'.\n",
      "  (all conflicts fixed: run \"git rebase --continue\")\n",
      "\n",
      "Changes to be committed:\n",
      "  (use \"git reset HEAD <file>...\" to unstage)\n",
      "\n",
      "\t\u001b[32mnew file:   contato.html\u001b[m\n",
      "\t\u001b[32mmodified:   index.html\u001b[m\n",
      "\n"
     ]
    }
   ],
   "source": [
    "git status"
   ]
  },
  {
   "cell_type": "code",
   "execution_count": 46,
   "metadata": {},
   "outputs": [
    {
     "name": "stdout",
     "output_type": "stream",
     "text": [
      "Applying: Pagina de contato\n",
      "Applying: Pagina de contato\n",
      "Using index info to reconstruct a base tree...\n",
      "M\tindex.html\n",
      "Falling back to patching base and 3-way merge...\n",
      "Auto-merging index.html\n",
      "CONFLICT (content): Merge conflict in index.html\n",
      "error: Failed to merge in the changes.\n",
      "Patch failed at 0002 Pagina de contato\n",
      "\u001b[33mhint: Use 'git am --show-current-patch' to see the failed patch\u001b[m\n",
      "\n",
      "Resolve all conflicts manually, mark them as resolved with\n",
      "\"git add/rm <conflicted_files>\", then run \"git rebase --continue\".\n",
      "You can instead skip this commit: run \"git rebase --skip\".\n",
      "To abort and get back to the state before \"git rebase\", run \"git rebase --abort\".\n",
      "\n"
     ]
    },
    {
     "ename": "",
     "evalue": "128",
     "output_type": "error",
     "traceback": []
    }
   ],
   "source": [
    "git rebase --continue"
   ]
  },
  {
   "cell_type": "code",
   "execution_count": 47,
   "metadata": {},
   "outputs": [
    {
     "name": "stdout",
     "output_type": "stream",
     "text": [
      "\u001b[31mrebase in progress; onto \u001b[m8884f75\n",
      "You are currently rebasing branch 'master' on '8884f75'.\n",
      "  (fix conflicts and then run \"git rebase --continue\")\n",
      "  (use \"git rebase --skip\" to skip this patch)\n",
      "  (use \"git rebase --abort\" to check out the original branch)\n",
      "\n",
      "Changes to be committed:\n",
      "  (use \"git reset HEAD <file>...\" to unstage)\n",
      "\n",
      "\t\u001b[32mmodified:   contato.html\u001b[m\n",
      "\n",
      "Unmerged paths:\n",
      "  (use \"git reset HEAD <file>...\" to unstage)\n",
      "  (use \"git add <file>...\" to mark resolution)\n",
      "\n",
      "\t\u001b[31mboth modified:   index.html\u001b[m\n",
      "\n"
     ]
    }
   ],
   "source": [
    "git status"
   ]
  },
  {
   "cell_type": "code",
   "execution_count": 48,
   "metadata": {},
   "outputs": [],
   "source": [
    "git add index.html"
   ]
  },
  {
   "cell_type": "code",
   "execution_count": 49,
   "metadata": {},
   "outputs": [
    {
     "name": "stdout",
     "output_type": "stream",
     "text": [
      "Applying: Pagina de contato\n"
     ]
    }
   ],
   "source": [
    "git rebase --continue"
   ]
  },
  {
   "cell_type": "code",
   "execution_count": 50,
   "metadata": {},
   "outputs": [
    {
     "name": "stdout",
     "output_type": "stream",
     "text": [
      "\u001b[33mcommit e85e37fba697fc13fb1664fa15fd25dd23dbe443\u001b[m\u001b[33m (\u001b[m\u001b[1;36mHEAD -> \u001b[m\u001b[1;32mmaster\u001b[m\u001b[33m)\u001b[m\n",
      "Author: Diego Pessoa <diegopessoa12@gmail.com>\n",
      "Date:   Thu May 16 14:56:41 2019 -0300\n",
      "\n",
      "    Pagina de contato\n",
      "\n",
      "\u001b[33mcommit 79710eb5ce89e9c521f91850825185a291bec786\u001b[m\n",
      "Author: Diego Pessoa <diegopessoa12@gmail.com>\n",
      "Date:   Thu May 16 14:55:05 2019 -0300\n",
      "\n",
      "    Pagina de contato\n",
      "\n",
      "\u001b[33mcommit 8884f75a60982b0cc0f4090b8879b27018940d3e\u001b[m\u001b[33m (\u001b[m\u001b[1;33mtag: v1.0.1\u001b[m\u001b[33m, \u001b[m\u001b[1;32mbugfix\u001b[m\u001b[33m)\u001b[m\n",
      "Author: Diego Pessoa <diegopessoa12@gmail.com>\n",
      "Date:   Thu May 16 15:02:42 2019 -0300\n",
      "\n",
      "    Adiciona ação do botão cadastrar\n",
      "\n",
      "\u001b[33mcommit 042f35a2c95c31bf68c4f3031d58341ba0fbf2e9\u001b[m\u001b[33m (\u001b[m\u001b[1;33mtag: v1.0.0\u001b[m\u001b[33m)\u001b[m\n",
      "Author: Diego Pessoa <diegopessoa12@gmail.com>\n",
      "Date:   Thu May 16 14:51:38 2019 -0300\n",
      "\n",
      "    Pagina de cadastro\n"
     ]
    }
   ],
   "source": [
    "git log"
   ]
  },
  {
   "cell_type": "code",
   "execution_count": 51,
   "metadata": {},
   "outputs": [
    {
     "name": "stdout",
     "output_type": "stream",
     "text": [
      "v1.0.0\n",
      "v1.0.1\n"
     ]
    }
   ],
   "source": [
    "git tag"
   ]
  },
  {
   "cell_type": "code",
   "execution_count": 52,
   "metadata": {},
   "outputs": [
    {
     "name": "stdout",
     "output_type": "stream",
     "text": [
      "On branch master\n",
      "nothing to commit, working tree clean\n"
     ]
    }
   ],
   "source": [
    "git status"
   ]
  },
  {
   "cell_type": "code",
   "execution_count": 53,
   "metadata": {},
   "outputs": [],
   "source": [
    "git tag v1.1.0"
   ]
  },
  {
   "cell_type": "code",
   "execution_count": 54,
   "metadata": {},
   "outputs": [
    {
     "name": "stdout",
     "output_type": "stream",
     "text": [
      "v1.0.0\n",
      "v1.0.1\n",
      "v1.1.0\n"
     ]
    }
   ],
   "source": [
    "git tag"
   ]
  },
  {
   "cell_type": "code",
   "execution_count": null,
   "metadata": {},
   "outputs": [],
   "source": []
  }
 ],
 "metadata": {
  "kernelspec": {
   "display_name": "Bash",
   "language": "bash",
   "name": "bash"
  },
  "language_info": {
   "codemirror_mode": "shell",
   "file_extension": ".sh",
   "mimetype": "text/x-sh",
   "name": "bash"
  }
 },
 "nbformat": 4,
 "nbformat_minor": 2
}
